{
 "cells": [
  {
   "cell_type": "code",
   "execution_count": 2,
   "id": "163832e7-4ac5-48ca-b6f1-dfdacea5827e",
   "metadata": {},
   "outputs": [],
   "source": [
    "import numpy as np\n",
    "import pandas as pd\n",
    "# for calculating the distance\n",
    "import math\n",
    "import matplotlib.pyplot as plt\n",
    "import os"
   ]
  },
  {
   "cell_type": "code",
   "execution_count": 3,
   "id": "220fb4fd-7f77-4b00-aa5a-0f2a5094cd14",
   "metadata": {},
   "outputs": [
    {
     "data": {
      "text/html": [
       "<div>\n",
       "<style scoped>\n",
       "    .dataframe tbody tr th:only-of-type {\n",
       "        vertical-align: middle;\n",
       "    }\n",
       "\n",
       "    .dataframe tbody tr th {\n",
       "        vertical-align: top;\n",
       "    }\n",
       "\n",
       "    .dataframe thead th {\n",
       "        text-align: right;\n",
       "    }\n",
       "</style>\n",
       "<table border=\"1\" class=\"dataframe\">\n",
       "  <thead>\n",
       "    <tr style=\"text-align: right;\">\n",
       "      <th></th>\n",
       "      <th>Atom</th>\n",
       "      <th>N</th>\n",
       "      <th>Chain</th>\n",
       "      <th>X</th>\n",
       "      <th>Y</th>\n",
       "      <th>Z</th>\n",
       "    </tr>\n",
       "  </thead>\n",
       "  <tbody>\n",
       "  </tbody>\n",
       "</table>\n",
       "</div>"
      ],
      "text/plain": [
       "Empty DataFrame\n",
       "Columns: [Atom, N, Chain, X, Y, Z]\n",
       "Index: []"
      ]
     },
     "execution_count": 3,
     "metadata": {},
     "output_type": "execute_result"
    }
   ],
   "source": [
    "# create an empty dataframe\n",
    "# N means the name of the nucleuotide\n",
    "rna_df = pd.DataFrame(columns=['Atom', 'N', 'Chain', 'X','Y','Z'])\n",
    "rna_df"
   ]
  },
  {
   "cell_type": "markdown",
   "id": "720ec1ae-ef8e-47b5-87ce-2501ae2cf925",
   "metadata": {},
   "source": [
    "<font size=4>Read the pdb files line by line</font>"
   ]
  },
  {
   "cell_type": "code",
   "execution_count": 4,
   "id": "5bc8ff91-0bd4-4552-bb04-4b37b4272cd6",
   "metadata": {
    "scrolled": true,
    "tags": []
   },
   "outputs": [
    {
     "name": "stdout",
     "output_type": "stream",
     "text": [
      "pdb/3b31.pdb\n",
      "pdb/4cs1.pdb\n",
      "pdb/2n0j.pdb\n",
      "pdb/1jtw.pdb\n",
      "pdb/1f7g.pdb\n",
      "pdb/2rlu.pdb\n",
      "pdb/4gxy.pdb\n",
      "pdb/1mv6.pdb\n",
      "pdb/283d.pdb\n",
      "pdb/4p5j.pdb\n"
     ]
    }
   ],
   "source": [
    "# read the 10 pdb files and choose the C3' atoms and put them into the dataframe\n",
    "dir_path = 'pdb/'\n",
    "i = 0\n",
    "for path in os.listdir(dir_path):\n",
    "    if 'pdb' in path:\n",
    "        p = '{}{}'.format(dir_path,path)\n",
    "        print(p)\n",
    "        with open(p,'r') as pdbfile:\n",
    "            for line in pdbfile:\n",
    "                if line[:4] == 'ATOM' and line[13:16] == \"C3'\":\n",
    "                    rna_data = [line[13:16],line[19:20],line[21:22]+str(i),line[32:38],line[40:46],line[48:54]]\n",
    "                    # rna_df = rna_df.append(rna_data, ignore_index=True)\n",
    "                    rna_df.loc[len(rna_df)] = rna_data\n",
    "            i += 1\n",
    "                    "
   ]
  },
  {
   "cell_type": "code",
   "execution_count": 7,
   "id": "85dbd5fd-803c-4bcc-a0af-ed25e430d561",
   "metadata": {},
   "outputs": [
    {
     "data": {
      "text/plain": [
       "array(['A0', 'B0', 'A1', 'A2', 'A3', 'A4', 'A5', 'A6', 'A7', 'B7', 'A8',\n",
       "       'A9'], dtype=object)"
      ]
     },
     "execution_count": 7,
     "metadata": {},
     "output_type": "execute_result"
    }
   ],
   "source": [
    "rna_df['Chain'].unique()"
   ]
  },
  {
   "cell_type": "code",
   "execution_count": 8,
   "id": "37dc89c8-47bc-4866-8cbe-c36be5d19be9",
   "metadata": {},
   "outputs": [
    {
     "data": {
      "text/html": [
       "<div>\n",
       "<style scoped>\n",
       "    .dataframe tbody tr th:only-of-type {\n",
       "        vertical-align: middle;\n",
       "    }\n",
       "\n",
       "    .dataframe tbody tr th {\n",
       "        vertical-align: top;\n",
       "    }\n",
       "\n",
       "    .dataframe thead th {\n",
       "        text-align: right;\n",
       "    }\n",
       "</style>\n",
       "<table border=\"1\" class=\"dataframe\">\n",
       "  <thead>\n",
       "    <tr style=\"text-align: right;\">\n",
       "      <th></th>\n",
       "      <th>Atom</th>\n",
       "      <th>N</th>\n",
       "      <th>Chain</th>\n",
       "      <th>X</th>\n",
       "      <th>Y</th>\n",
       "      <th>Z</th>\n",
       "    </tr>\n",
       "  </thead>\n",
       "  <tbody>\n",
       "    <tr>\n",
       "      <th>0</th>\n",
       "      <td>C3'</td>\n",
       "      <td>G</td>\n",
       "      <td>A0</td>\n",
       "      <td>-6.100</td>\n",
       "      <td>21.848</td>\n",
       "      <td>42.828</td>\n",
       "    </tr>\n",
       "    <tr>\n",
       "      <th>1</th>\n",
       "      <td>C3'</td>\n",
       "      <td>G</td>\n",
       "      <td>A0</td>\n",
       "      <td>-2.871</td>\n",
       "      <td>24.876</td>\n",
       "      <td>46.450</td>\n",
       "    </tr>\n",
       "    <tr>\n",
       "      <th>2</th>\n",
       "      <td>C3'</td>\n",
       "      <td>U</td>\n",
       "      <td>A0</td>\n",
       "      <td>1.752</td>\n",
       "      <td>25.996</td>\n",
       "      <td>49.735</td>\n",
       "    </tr>\n",
       "    <tr>\n",
       "      <th>3</th>\n",
       "      <td>C3'</td>\n",
       "      <td>U</td>\n",
       "      <td>A0</td>\n",
       "      <td>6.836</td>\n",
       "      <td>24.352</td>\n",
       "      <td>51.183</td>\n",
       "    </tr>\n",
       "    <tr>\n",
       "      <th>4</th>\n",
       "      <td>C3'</td>\n",
       "      <td>A</td>\n",
       "      <td>A0</td>\n",
       "      <td>11.897</td>\n",
       "      <td>21.350</td>\n",
       "      <td>50.987</td>\n",
       "    </tr>\n",
       "  </tbody>\n",
       "</table>\n",
       "</div>"
      ],
      "text/plain": [
       "  Atom  N Chain       X       Y       Z\n",
       "0  C3'  G    A0  -6.100  21.848  42.828\n",
       "1  C3'  G    A0  -2.871  24.876  46.450\n",
       "2  C3'  U    A0   1.752  25.996  49.735\n",
       "3  C3'  U    A0   6.836  24.352  51.183\n",
       "4  C3'  A    A0  11.897  21.350  50.987"
      ]
     },
     "execution_count": 8,
     "metadata": {},
     "output_type": "execute_result"
    }
   ],
   "source": [
    "rna_df.head()"
   ]
  },
  {
   "cell_type": "code",
   "execution_count": 236,
   "id": "e23d28f5-e172-4dff-ad52-cc52536ef69d",
   "metadata": {},
   "outputs": [],
   "source": [
    "# rna_df.index[rna_df['N']=='T'].tolist()"
   ]
  },
  {
   "cell_type": "code",
   "execution_count": 238,
   "id": "28dc2ddc-477a-448c-85ae-49e53c20e5ca",
   "metadata": {},
   "outputs": [
    {
     "data": {
      "text/plain": [
       "(1772, 6)"
      ]
     },
     "execution_count": 238,
     "metadata": {},
     "output_type": "execute_result"
    }
   ],
   "source": [
    "rna_df.shape"
   ]
  },
  {
   "cell_type": "code",
   "execution_count": 14,
   "id": "e8665f2a-8526-4373-a28f-89f4804bd4ad",
   "metadata": {},
   "outputs": [
    {
     "data": {
      "text/plain": [
       "[-6.1, 21.848, 42.828]"
      ]
     },
     "execution_count": 14,
     "metadata": {},
     "output_type": "execute_result"
    }
   ],
   "source": [
    "list(rna_df.iloc[0,3:6])"
   ]
  },
  {
   "cell_type": "code",
   "execution_count": 13,
   "id": "665c205f-5436-4c35-9290-031cd317df8a",
   "metadata": {},
   "outputs": [
    {
     "data": {
      "text/plain": [
       "Atom      object\n",
       "N         object\n",
       "Chain     object\n",
       "X        float64\n",
       "Y        float64\n",
       "Z        float64\n",
       "dtype: object"
      ]
     },
     "execution_count": 13,
     "metadata": {},
     "output_type": "execute_result"
    }
   ],
   "source": [
    "# convert data type \n",
    "rna_df = rna_df.astype({'X':'float','Y':'float','Z':'float'})\n",
    "rna_df.dtypes"
   ]
  },
  {
   "cell_type": "code",
   "execution_count": 15,
   "id": "534d31d5-b623-4310-be87-f19b853e90de",
   "metadata": {},
   "outputs": [
    {
     "data": {
      "text/plain": [
       "1772"
      ]
     },
     "execution_count": 15,
     "metadata": {},
     "output_type": "execute_result"
    }
   ],
   "source": [
    "len(rna_df.iloc[:,3:6])"
   ]
  },
  {
   "cell_type": "code",
   "execution_count": 143,
   "id": "5cb5718d-7eee-4106-8424-a93e9cef5b76",
   "metadata": {},
   "outputs": [],
   "source": [
    "# # convert dataframe to array\n",
    "# cordinates = rna_df.iloc[:,3:6]\n",
    "# cordinates = cordinates.to_numpy()"
   ]
  },
  {
   "cell_type": "code",
   "execution_count": 104,
   "id": "cefa4748-6336-4522-9063-293a720139da",
   "metadata": {},
   "outputs": [],
   "source": [
    "# cordinates = cordinates.to_numpy()"
   ]
  },
  {
   "cell_type": "code",
   "execution_count": 144,
   "id": "a6ded679-9140-4dd3-9e02-2cb081882ac1",
   "metadata": {},
   "outputs": [
    {
     "data": {
      "text/plain": [
       "(1772, 3)"
      ]
     },
     "execution_count": 144,
     "metadata": {},
     "output_type": "execute_result"
    }
   ],
   "source": [
    "# cordinates.shape"
   ]
  },
  {
   "cell_type": "code",
   "execution_count": 145,
   "id": "51d01193-69a9-4c63-a616-170306e9277f",
   "metadata": {},
   "outputs": [
    {
     "data": {
      "text/plain": [
       "1772"
      ]
     },
     "execution_count": 145,
     "metadata": {},
     "output_type": "execute_result"
    }
   ],
   "source": [
    "# r,c = cordinates.shape\n",
    "# r"
   ]
  },
  {
   "cell_type": "markdown",
   "id": "4deb0477-2ff9-4999-9771-9e7279efa957",
   "metadata": {},
   "source": [
    "<font size=4>Calculate Euclidean distance of two C3 atom and keep distance <20 </font>"
   ]
  },
  {
   "cell_type": "code",
   "execution_count": 146,
   "id": "e96172f4-ad10-4287-ab8d-aa2caf3ec0b9",
   "metadata": {},
   "outputs": [],
   "source": [
    "# # calculate the distance between each two C3 and put the results into an array\n",
    "# def distances(cordinates):\n",
    "#     ns = ['A','C','G','U']\n",
    "#     dic_pair={}\n",
    "#     # create an empty dictionary with 10 keys\n",
    "#     for a in range(len(ns)):\n",
    "#         for b in range(a,len(ns)):\n",
    "#             key = '{}{}'.format(ns[a],ns[b])\n",
    "#             dic_pair[key]=[]\n",
    "#     # dic_pair = create_dic()\n",
    "#     # distance_arr = np.empty([r,r])\n",
    "#     for i in range(r-4):\n",
    "#         for j in range(i+4,r):\n",
    "#             # calculate the distance between two C3\n",
    "#             distance = math.dist(cordinates[i],cordinates[j])\n",
    "#             pair = '{}{}'.format(rna_df.loc[i,'N'],rna_df.loc[j,'N'])\n",
    "#             if distance < 20:\n",
    "#                 if pair in dic_pair.keys():\n",
    "#                     dic_pair[pair].append(int(distance))\n",
    "#                 else:\n",
    "#                     pair = '{}{}'.format(rna_df.loc[j,'N'],rna_df.loc[i,'N'])\n",
    "#                     dic_pair[pair].append(int(distance))\n",
    "#     return dic_pair"
   ]
  },
  {
   "cell_type": "code",
   "execution_count": 18,
   "id": "233b3eeb-ab9f-473a-a3d9-3389f988397f",
   "metadata": {},
   "outputs": [],
   "source": [
    "# calculate the distance between each two C3 and put the results into an array\n",
    "def distances(df):\n",
    "    ns = ['A','C','G','U']\n",
    "    dic_pair={}\n",
    "    # create an empty dictionary with 10 keys\n",
    "    for a in range(len(ns)):\n",
    "        for b in range(a,len(ns)):\n",
    "            key = '{}{}'.format(ns[a],ns[b])\n",
    "            dic_pair[key]=[]\n",
    "    # dic_pair = create_dic()\n",
    "    # distance_arr = np.empty([r,r])\n",
    "    r = df.shape[0]\n",
    "    for i in range(r-4):\n",
    "        for j in range(i+4,r):\n",
    "            # check if the pair is belong to the same chain\n",
    "            if df.loc[i,'Chain'] == df.loc[i,'Chain']:\n",
    "                # calculate the distance between two C3\n",
    "                cordinates_i = list(rna_df.iloc[i,3:6])\n",
    "                cordinates_j = list(rna_df.iloc[j,3:6])\n",
    "                distance = math.dist(cordinates_i,cordinates_j)\n",
    "                pair = '{}{}'.format(rna_df.loc[i,'N'],rna_df.loc[j,'N'])\n",
    "                if distance < 21:\n",
    "                    if pair in dic_pair.keys():\n",
    "                        dic_pair[pair].append(int(distance))\n",
    "                    else:\n",
    "                        pair = '{}{}'.format(rna_df.loc[j,'N'],rna_df.loc[i,'N'])\n",
    "                        dic_pair[pair].append(int(distance))\n",
    "    return dic_pair"
   ]
  },
  {
   "cell_type": "code",
   "execution_count": 19,
   "id": "ddc03e9a-dc1b-4035-b7f8-d4aa96fb513b",
   "metadata": {},
   "outputs": [],
   "source": [
    "d = distances(rna_df)"
   ]
  },
  {
   "cell_type": "code",
   "execution_count": 251,
   "id": "5f79e823-66f6-4b7f-b227-b781e83b9152",
   "metadata": {},
   "outputs": [
    {
     "data": {
      "text/plain": [
       "10"
      ]
     },
     "execution_count": 251,
     "metadata": {},
     "output_type": "execute_result"
    }
   ],
   "source": [
    "len(d)"
   ]
  },
  {
   "cell_type": "code",
   "execution_count": 252,
   "id": "cffd173c-3847-412c-a1e6-81d4eb62659e",
   "metadata": {},
   "outputs": [],
   "source": [
    "# print(d)"
   ]
  },
  {
   "cell_type": "markdown",
   "id": "44623d01-5f26-40d3-b54b-6b1f4c9a750e",
   "metadata": {},
   "source": [
    "<font size=4>Calculate observed and reference frequencies</font>"
   ]
  },
  {
   "cell_type": "code",
   "execution_count": 20,
   "id": "6c3a87f9-b1b4-4ac6-a5b8-7002e9649d20",
   "metadata": {},
   "outputs": [],
   "source": [
    "# calculate the observed probability (i.e. frequency)\n",
    "# input is the distances of i and j\n",
    "def observe_frequency(Dijs):\n",
    "    dic_obs={}\n",
    "    for i in range(21):\n",
    "        # the numebr of distances in distance i/the total number of distance of pair [i,j]\n",
    "        f = Dijs.count(i)/len(Dijs)\n",
    "        dic_obs[i]=f\n",
    "    plt.bar(dic_obs.keys(),dic_obs.values(),width=0.9,align='edge')\n",
    "    plt.xlabel('Distance')\n",
    "    plt.ylabel('OBS')\n",
    "    plt.show()\n",
    "    return dic_obs"
   ]
  },
  {
   "cell_type": "code",
   "execution_count": 21,
   "id": "95e365fe-923a-4945-ac2e-cf71f27f8e17",
   "metadata": {},
   "outputs": [],
   "source": [
    "# calculate the reference frequency\n",
    "def reference_frequency(d):\n",
    "    dic_ref = {}\n",
    "    for i in range(21):\n",
    "        n_xx_d = 0\n",
    "        n_xx = 0\n",
    "        for k,v in d.items():\n",
    "            n_xx_d += v.count(i)\n",
    "            n_xx += len(v)\n",
    "        dic_ref[i] = n_xx_d/n_xx\n",
    "    return dic_ref"
   ]
  },
  {
   "cell_type": "code",
   "execution_count": 22,
   "id": "1c5dfecc-7df6-495b-acdd-f26cb0ce822e",
   "metadata": {},
   "outputs": [
    {
     "name": "stdout",
     "output_type": "stream",
     "text": [
      "{0: 0.009077588211079521, 1: 0.007490716587714116, 2: 0.006164057784309167, 3: 0.00899440542437085, 4: 0.015642629685163816, 5: 0.031268196234592524, 6: 0.031807817902215436, 7: 0.033509865691792845, 8: 0.039059650589637986, 9: 0.04379680364809842, 10: 0.051850603715071227, 11: 0.06051654377654118, 12: 0.061312112480190764, 13: 0.06776624357199683, 14: 0.06887108161084533, 15: 0.0723050376775366, 16: 0.0743952718050878, 17: 0.07475786343945892, 18: 0.08163644003267591, 19: 0.08020953530682717, 20: 0.07956753482479359}\n"
     ]
    }
   ],
   "source": [
    "dic_f_ref=reference_frequency(d)\n",
    "print(dic_f_ref)"
   ]
  },
  {
   "cell_type": "code",
   "execution_count": 23,
   "id": "7757b86b-8533-45e8-bd57-78586a2997ae",
   "metadata": {},
   "outputs": [],
   "source": [
    "# score\n",
    "def score(dic_f_obs,dic_f_ref):\n",
    "    dic_score= {}\n",
    "    for k,v in dic_f_obs.items():\n",
    "        s = 10\n",
    "        if v !=0 and dic_f_ref[k] != 0:\n",
    "            s = (-1) * math.log(v/dic_f_ref[k])\n",
    "        dic_score[k]=s\n",
    "    return dic_score"
   ]
  },
  {
   "cell_type": "code",
   "execution_count": 26,
   "id": "8d01de25-534a-4eb8-b18d-12c8e26412a9",
   "metadata": {},
   "outputs": [],
   "source": [
    "def write_txt(pair, dic):\n",
    "    \n",
    "    os.system('rm {}.txt'.format(pair))\n",
    "    f = open('{}.txt'.format(pair),'x')\n",
    "    for k,v in dic.items():\n",
    "        f = open('{}.txt'.format(pair),'a')\n",
    "        # f.write('{}'.format(k) + '\\t' + '{}'.format(v) + '\\n')\n",
    "        f.write('{}'.format(k) + '\\t' + '{}'.format(v)+'\\n')\n",
    "\n",
    "        f.close()"
   ]
  },
  {
   "cell_type": "code",
   "execution_count": 27,
   "id": "6bd85e93-6195-43c7-919f-ee6a7d2cf8f9",
   "metadata": {},
   "outputs": [
    {
     "data": {
      "image/png": "[encoded data removed]",
      "text/plain": [
       "<Figure size 432x288 with 1 Axes>"
      ]
     },
     "metadata": {
      "needs_background": "light"
     },
     "output_type": "display_data"
    },
    {
     "name": "stdout",
     "output_type": "stream",
     "text": [
      "---------Paire AA --------\n",
      "---------Scores---------\n",
      "{0: -2.1912091260601154, 1: -1.5651502267811799, 2: -1.1575865881378948, 3: -0.6442811446027085, 4: -0.572273001188858, 5: -0.5798691129360989, 6: -0.5245676948815692, 7: -0.5451565742782176, 8: 0.7226696515722573, 9: -0.012125854669657174, 10: -0.6650083814012773, 11: -0.2343816546619222, 12: 0.5262733247757216, 13: 0.6706477766186836, 14: 0.8284704796810087, 15: 0.7468627144593281, 16: 1.0354381054735944, 17: 0.5771266941846035, 18: 0.44762772848790416, 19: 0.052485368235865144, 20: 0.012324635222290263}\n"
     ]
    },
    {
     "name": "stderr",
     "output_type": "stream",
     "text": [
      "rm: AA.txt: No such file or directory\n"
     ]
    },
    {
     "data": {
      "image/png": "[encoded data removed]",
      "text/plain": [
       "<Figure size 432x288 with 1 Axes>"
      ]
     },
     "metadata": {
      "needs_background": "light"
     },
     "output_type": "display_data"
    },
    {
     "name": "stdout",
     "output_type": "stream",
     "text": [
      "---------Paire AC --------\n",
      "---------Scores---------\n",
      "{0: 5.6849232973011, 1: 4.106484859914737, 2: 2.0789742225178967, 3: 1.3990514010101243, 4: 0.304858817496359, 5: 0.3864749707066036, 6: 0.6380410663791579, 7: -0.09828850580029702, 8: -0.11842386555367301, 9: 0.21551567815018957, 10: -0.08568221164428677, 11: -0.07666802427062819, 12: -0.2111971168762364, 13: -0.3426872906769754, 14: -0.26695983983578087, 15: -0.4019372398205291, 16: -0.30189515229078506, 17: 0.053574700333654725, 18: 0.3557505117639687, 19: 0.36988327061148046, 20: 0.35298270043038343}\n"
     ]
    },
    {
     "name": "stderr",
     "output_type": "stream",
     "text": [
      "rm: AC.txt: No such file or directory\n"
     ]
    },
    {
     "data": {
      "image/png": "[encoded data removed]",
      "text/plain": [
       "<Figure size 432x288 with 1 Axes>"
      ]
     },
     "metadata": {
      "needs_background": "light"
     },
     "output_type": "display_data"
    },
    {
     "name": "stdout",
     "output_type": "stream",
     "text": [
      "---------Paire AG --------\n",
      "---------Scores---------\n",
      "{0: 10, 1: 2.1251333143194286, 2: -0.038607772671098474, 3: 0.39752860809295915, 4: 0.6642441308594733, 5: 0.26124099006469015, 6: 0.5540574907918951, 7: 0.24213022774035522, 8: -0.03847691572794621, 9: -0.10791460084599838, 10: -0.2723193777591181, 11: -0.1454368500803986, 12: 0.07025379979383416, 13: -0.05043130334755872, 14: -0.15369915421227334, 15: -0.20575570019788345, 16: -0.1250178964440893, 17: 0.047758911362154634, 18: 0.10867468170729314, 19: 0.037686796512430655, 20: 0.00859062052094014}\n"
     ]
    },
    {
     "name": "stderr",
     "output_type": "stream",
     "text": [
      "rm: AG.txt: No such file or directory\n"
     ]
    },
    {
     "data": {
      "image/png": "[encoded data removed]",
      "text/plain": [
       "<Figure size 432x288 with 1 Axes>"
      ]
     },
     "metadata": {
      "needs_background": "light"
     },
     "output_type": "display_data"
    },
    {
     "name": "stdout",
     "output_type": "stream",
     "text": [
      "---------Paire AU --------\n",
      "---------Scores---------\n",
      "{0: 10, 1: 10, 2: 2.68404145365246, 3: 1.7095161168483328, 4: 0.5092256904543974, 5: 0.2933280542333868, 6: -0.1967703097402757, 7: -0.2806165806136822, 8: -0.27362490304632564, 9: -0.01731344029997863, 10: -0.30551796079444987, 11: -0.3270899172637044, 12: -0.12909649231128692, 13: -0.18062875357492, 14: -0.2951755056712177, 15: 0.21605192273095486, 16: 0.2684366052191082, 17: 0.1224658631747973, 18: 0.15961825501504898, 19: 0.26224077420885106, 20: 0.04747508139095249}\n"
     ]
    },
    {
     "name": "stderr",
     "output_type": "stream",
     "text": [
      "rm: AU.txt: No such file or directory\n"
     ]
    },
    {
     "data": {
      "image/png": "[encoded data removed]",
      "text/plain": [
       "<Figure size 432x288 with 1 Axes>"
      ]
     },
     "metadata": {
      "needs_background": "light"
     },
     "output_type": "display_data"
    },
    {
     "name": "stdout",
     "output_type": "stream",
     "text": [
      "---------Paire CC --------\n",
      "---------Scores---------\n",
      "{0: -1.295932003759662, 1: -1.291977968229564, 2: -1.2840580929337144, 3: -0.818497533549604, 4: -0.4580041047893841, 5: -0.261545945671453, 6: 0.20041484695457654, 7: 0.4503683784693112, 8: 0.5197369806819606, 9: 0.3816170867594111, 10: 0.44060796020346343, 11: 0.4245718600358121, 12: 0.4093679402593064, 13: 0.3162634828702935, 14: 0.8133089703522313, 15: 0.5628742607786401, 16: -0.08584587910382513, 17: -0.15591488213167762, 18: -0.18355227401760132, 19: -0.3290870229798948, 20: -0.3964084949439252}\n"
     ]
    },
    {
     "name": "stderr",
     "output_type": "stream",
     "text": [
      "rm: CC.txt: No such file or directory\n"
     ]
    },
    {
     "data": {
      "image/png": "[encoded data removed]",
      "text/plain": [
       "<Figure size 432x288 with 1 Axes>"
      ]
     },
     "metadata": {
      "needs_background": "light"
     },
     "output_type": "display_data"
    },
    {
     "name": "stdout",
     "output_type": "stream",
     "text": [
      "---------Paire CG --------\n",
      "---------Scores---------\n",
      "{0: 4.607424158268275, 1: 1.7864792525537327, 2: 0.6289267903900495, 3: 0.7181284226682179, 4: 0.6144182734761808, 5: 0.4971095719699688, 6: 0.46381164191752333, 7: 0.29253718004137474, 8: 0.21368243540184015, 9: 0.09961007330053635, 10: 0.1451358733367258, 11: -0.01377172260519135, 12: 0.004998987345727577, 13: -0.12654763234246408, 14: -0.18194462841221049, 15: -0.14372586957444963, 16: -0.22102168039999917, 17: -0.12970585798415785, 18: -0.10386393120945762, 19: -0.05306545619520136, 20: -0.0545020314550683}\n"
     ]
    },
    {
     "name": "stderr",
     "output_type": "stream",
     "text": [
      "rm: CG.txt: No such file or directory\n"
     ]
    },
    {
     "data": {
      "image/png": "[encoded data removed]",
      "text/plain": [
       "<Figure size 432x288 with 1 Axes>"
      ]
     },
     "metadata": {
      "needs_background": "light"
     },
     "output_type": "display_data"
    },
    {
     "name": "stdout",
     "output_type": "stream",
     "text": [
      "---------Paire CU --------\n",
      "---------Scores---------\n",
      "{0: 3.467195867529698, 1: 1.6345232917590935, 2: 0.8946628818580625, 3: 0.3550568903749399, 4: -0.04541945776354646, 5: -0.31642309633201227, 6: -0.2729071407273477, 7: -0.0423744822581242, 8: 0.1981583881730964, 9: -0.03914772807212741, 10: -0.09119158513591953, 11: 0.010701422021144269, 12: -0.039904566790007354, 13: 0.07976523009408977, 14: 0.002079543436284926, 15: -0.05340805365553343, 16: 0.11500885776715586, 17: 0.006092647670105161, 18: 0.02381110125181109, 19: 0.03424712840636235, 20: -0.12240144910751918}\n"
     ]
    },
    {
     "name": "stderr",
     "output_type": "stream",
     "text": [
      "rm: CU.txt: No such file or directory\n"
     ]
    },
    {
     "data": {
      "image/png": "[encoded data removed]",
      "text/plain": [
       "<Figure size 432x288 with 1 Axes>"
      ]
     },
     "metadata": {
      "needs_background": "light"
     },
     "output_type": "display_data"
    },
    {
     "name": "stdout",
     "output_type": "stream",
     "text": [
      "---------Paire GG --------\n",
      "---------Scores---------\n",
      "{0: -0.8855166991315145, 1: -0.8931002923529126, 2: -0.26914260744701823, 3: 0.04745966940046155, 4: 0.1216740802804412, 5: 0.2218467042449406, 6: 0.05022362005829188, 7: -0.05932463271309901, 8: -0.07571094378638689, 9: 0.15920606800744166, 10: 0.3270710736169808, 11: 0.062923311499667, 12: -0.06352244267902592, 13: 0.08620231005459085, 14: 0.1301819348919259, 15: 0.17102116919056723, 16: 0.04458648856266331, 17: -0.09370174653232302, 18: -0.11219633575755651, 19: -0.09656500548106853, 20: -0.040089258918758836}\n"
     ]
    },
    {
     "name": "stderr",
     "output_type": "stream",
     "text": [
      "rm: GG.txt: No such file or directory\n"
     ]
    },
    {
     "data": {
      "image/png": "[encoded data removed]",
      "text/plain": [
       "<Figure size 432x288 with 1 Axes>"
      ]
     },
     "metadata": {
      "needs_background": "light"
     },
     "output_type": "display_data"
    },
    {
     "name": "stdout",
     "output_type": "stream",
     "text": [
      "---------Paire GU --------\n",
      "---------Scores---------\n",
      "{0: 6.61836438151998, 1: 2.8708722437640932, 2: 0.5077060296525966, 3: -0.1581845210203326, 4: 0.05022825441885941, 5: -0.07108419723181975, 6: -0.1797101336410173, 7: -0.031029355466575155, 8: -0.08487043050072982, 9: -0.11632884202835048, 10: 0.015704491132241507, 11: -0.07589997137393804, 12: -0.15688256722101368, 13: -0.05814714713616714, 14: -0.019440719814731725, 15: -0.04608677869263694, 16: 0.16996721161951406, 17: 0.02048540282249443, 18: -0.11513330368245588, 19: 0.06408754397521174, 20: 0.21994577592072487}\n"
     ]
    },
    {
     "name": "stderr",
     "output_type": "stream",
     "text": [
      "rm: GU.txt: No such file or directory\n"
     ]
    },
    {
     "data": {
      "image/png": "[encoded data removed]",
      "text/plain": [
       "<Figure size 432x288 with 1 Axes>"
      ]
     },
     "metadata": {
      "needs_background": "light"
     },
     "output_type": "display_data"
    },
    {
     "name": "stdout",
     "output_type": "stream",
     "text": [
      "---------Paire UU --------\n",
      "---------Scores---------\n",
      "{0: -1.3707398904457846, 1: -1.3581229514111588, 2: -0.9048662412497861, 3: -1.0474332514823317, 4: -0.9706775431736794, 5: -0.497650766465612, 6: -0.41347886872752726, 7: -0.23210168286058486, 8: -0.31912539618642216, 9: -0.2979187262552774, 10: 0.10905832292649527, 11: 0.6349178747915476, 12: 0.5738120426835133, 13: 0.5503025435441865, 14: 0.6403759406089069, 15: 0.3871615670971798, 16: 0.07522116952157712, 17: 0.24213199401779117, 18: 0.22770662670729497, 19: -0.14385039065819466, 20: 0.05222477285836489}\n"
     ]
    }
   ],
   "source": [
    "for k,v in d.items():\n",
    "    pair = '{}'.format(k)\n",
    "    dic_f_obs = observe_frequency(v)\n",
    "    print('---------Paire {} --------'.format(k))\n",
    "    # print('observed frequence:\\n')\n",
    "    # print(dic_f_obs)\n",
    "    # for i in range(20):\n",
    "    dic_score = score(dic_f_obs,dic_f_ref)\n",
    "    print('---------Scores---------')\n",
    "    write_txt(pair, dic_score)\n",
    "    print(dic_score)"
   ]
  },
  {
   "cell_type": "code",
   "execution_count": null,
   "id": "b91c449d-cc65-462c-978c-c3ad26c4d326",
   "metadata": {},
   "outputs": [],
   "source": []
  },
  {
   "cell_type": "code",
   "execution_count": 72,
   "id": "a0865d03-d28e-45a7-9638-1d37a1b2d538",
   "metadata": {},
   "outputs": [],
   "source": [
    "# for i in range(20):\n",
    "#     dic_score = score(dic_f_obs,dic_f_ref[i])\n",
    "#     print('---------D:{}---------'.format(i))\n",
    "#     print(dic_score)"
   ]
  },
  {
   "cell_type": "code",
   "execution_count": 73,
   "id": "3202b4d4-738d-49c2-9dff-a62eee2d622b",
   "metadata": {},
   "outputs": [],
   "source": [
    "# dic_f_obs"
   ]
  },
  {
   "cell_type": "code",
   "execution_count": 74,
   "id": "fb8e1274-6a84-4da6-9488-0191885b14bc",
   "metadata": {},
   "outputs": [],
   "source": [
    "# dic_f_ref"
   ]
  },
  {
   "cell_type": "code",
   "execution_count": null,
   "id": "c28b3d5e-a309-4a5c-913d-fe0c5758f63b",
   "metadata": {},
   "outputs": [],
   "source": []
  },
  {
   "cell_type": "code",
   "execution_count": null,
   "id": "9e73884a-ea56-4314-9fae-992275e08816",
   "metadata": {},
   "outputs": [],
   "source": []
  }
 ],
 "metadata": {
  "kernelspec": {
   "display_name": "Python 3 (ipykernel)",
   "language": "python",
   "name": "python3"
  },
  "language_info": {
   "codemirror_mode": {
    "name": "ipython",
    "version": 3
   },
   "file_extension": ".py",
   "mimetype": "text/x-python",
   "name": "python",
   "nbconvert_exporter": "python",
   "pygments_lexer": "ipython3",
   "version": "3.8.13"
  }
 },
 "nbformat": 4,
 "nbformat_minor": 5
}
